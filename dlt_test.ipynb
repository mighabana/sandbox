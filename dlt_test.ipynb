{
 "cells": [
  {
   "cell_type": "code",
   "execution_count": 41,
   "metadata": {},
   "outputs": [],
   "source": [
    "# list blobs based on path prefix\n",
    "# source: \n",
    "\n",
    "from google.cloud import storage\n",
    "\n",
    "def list_blobs_with_prefix(bucket_name, prefix, delimiter=None):\n",
    "    \"\"\"Lists all the blobs in the bucket that begin with the prefix.\n",
    "    \"\"\"\n",
    "\n",
    "    storage_client = storage.Client()\n",
    "\n",
    "    # Note: Client.list_blobs requires at least package version 1.17.0.\n",
    "    blobs = storage_client.list_blobs(bucket_name, prefix=prefix, delimiter=delimiter)\n",
    "\n",
    "    # Note: The call returns a response only when the iterator is consumed.\n",
    "    print(\"Blobs:\")\n",
    "    for blob in blobs:\n",
    "        print(blob.name)\n",
    "\n",
    "    if delimiter:\n",
    "        print(\"Prefixes:\")\n",
    "        for prefix in blobs.prefixes:\n",
    "            print(prefix)"
   ]
  },
  {
   "cell_type": "code",
   "execution_count": 54,
   "metadata": {},
   "outputs": [],
   "source": [
    "# access zip file from blob storage\n",
    "\n",
    "import io\n",
    "\n",
    "storage_client = storage.Client()\n",
    "\n",
    "bucket = storage_client.get_bucket('data-seeds')\n",
    "blob = bucket.blob('spotify/streaming_history/20240904T205339.zip')\n",
    "\n",
    "\n",
    "zipbytes = io.BytesIO(blob.download_as_string())"
   ]
  },
  {
   "cell_type": "code",
   "execution_count": 56,
   "metadata": {},
   "outputs": [
    {
     "data": {
      "text/plain": [
       "True"
      ]
     },
     "execution_count": 56,
     "metadata": {},
     "output_type": "execute_result"
    }
   ],
   "source": [
    "# read zip content and upload back to gcs\n",
    "\n",
    "from zipfile import ZipFile\n",
    "from zipfile import is_zipfile\n",
    "\n",
    "\n",
    "if is_zipfile(zipbytes):\n",
    "    with ZipFile(zipbytes, 'r') as myzip:\n",
    "        for contentfilename in myzip.namelist():\n",
    "            contentfile = myzip.read(contentfilename)\n",
    "            blob = bucket.blob(zipfilename_with_path + \"/\" + contentfilename)\n",
    "            blob.upload_from_string(contentfile)"
   ]
  },
  {
   "cell_type": "code",
   "execution_count": null,
   "metadata": {},
   "outputs": [],
   "source": [
    "# convert from json to jsonl\n",
    "\n"
   ]
  },
  {
   "cell_type": "code",
   "execution_count": 60,
   "metadata": {},
   "outputs": [
    {
     "name": "stdout",
     "output_type": "stream",
     "text": [
      "Blobs:\n",
      "Prefixes:\n",
      "google/takeout/20240920T\n"
     ]
    }
   ],
   "source": [
    "list_blobs_with_prefix('data-seeds', 'google/',delimiter='T')"
   ]
  },
  {
   "cell_type": "code",
   "execution_count": 1,
   "metadata": {},
   "outputs": [],
   "source": [
    "import traceback"
   ]
  },
  {
   "cell_type": "code",
   "execution_count": 9,
   "metadata": {},
   "outputs": [],
   "source": [
    "# put it all together\n",
    "\n",
    "# Get data seed unzip it and then upload it into another bucket\n",
    "\n",
    "from google.cloud import storage\n",
    "from zipfile import ZipFile, is_zipfile\n",
    "\n",
    "import io\n",
    "import os\n",
    "import json\n",
    "import re\n",
    "\n",
    "# source: https://cloud.google.com/storage/docs/listing-objects with modifications\n",
    "def list_blobs_with_prefix(bucket_name, prefix):\n",
    "    \"\"\"Lists all the blobs in the bucket that begin with the prefix.\n",
    "    \"\"\"\n",
    "\n",
    "    storage_client = storage.Client()\n",
    "\n",
    "    # Note: Client.list_blobs requires at least package version 1.17.0.\n",
    "    blobs = storage_client.list_blobs(bucket_name, prefix=prefix)\n",
    "\n",
    "    blob_names = [blob.name for blob in blobs]\n",
    "    return blob_names\n",
    "\n",
    "storage_client = storage.Client()\n",
    "data_seed_bucket = storage_client.get_bucket('data-seeds')\n",
    "\n",
    "# params\n",
    "prefix_filter = \"spotify/account_data/\" # options: [\"google/\", \"spotify/\"]  can be parameterized futher by vendor and data type (takeout, account_data, streaming_history)\n",
    "landing_bucket_name = \"compendium-test\"\n",
    "\n",
    "landing_bucket = storage_client.get_bucket(landing_bucket_name)\n",
    "\n",
    "blob_paths = list_blobs_with_prefix('data-seeds', prefix_filter)\n",
    "\n",
    "for blob_path in blob_paths:\n",
    "    blob = data_seed_bucket.blob(blob_path)\n",
    "    zipbytes = io.BytesIO(blob.download_as_string())\n",
    "    \n",
    "    if is_zipfile(zipbytes):\n",
    "        with ZipFile(zipbytes, 'r') as myzip:\n",
    "            for contentfilename in myzip.namelist():\n",
    "                contentfile = myzip.read(contentfilename)\n",
    "                blob = landing_bucket.blob(blob_path.removesuffix('.zip') + \"/\" + contentfilename)\n",
    "                blob.upload_from_string(contentfile)\n",
    "                \n",
    "\n",
    "landing_blob_paths = list_blobs_with_prefix(landing_bucket_name, prefix_filter)\n",
    "json_blobs = [p for p in landing_blob_paths if re.search(r'\\.json$', p) is not None]\n",
    "\n",
    "for json_blob in json_blobs:\n",
    "    blob = landing_bucket.blob(json_blob)\n",
    "    blob_content = blob.download_as_string().decode('utf-8', 'replace')\n",
    "    data = json.loads(blob_content)\n",
    "    jsonl_blob = landing_bucket.blob(json_blob+\"l\")\n",
    "    if isinstance(data, dict):\n",
    "        jsonl_blob.upload_from_string(json.dumps(data))\n",
    "    elif isinstance(data, list):\n",
    "        content = \"\"\n",
    "        for datum in data:\n",
    "            content = content + json.dumps(datum) + \"\\n\"\n",
    "        jsonl_blob.upload_from_string(content)"
   ]
  },
  {
   "cell_type": "code",
   "execution_count": 10,
   "metadata": {},
   "outputs": [
    {
     "data": {
      "text/plain": [
       "['spotify/account_data/20240904T205339/Spotify Account Data/FamilyPlan.json',\n",
       " 'spotify/account_data/20240904T205339/Spotify Account Data/Follow.json',\n",
       " 'spotify/account_data/20240904T205339/Spotify Account Data/Identifiers.json',\n",
       " 'spotify/account_data/20240904T205339/Spotify Account Data/Identity.json',\n",
       " 'spotify/account_data/20240904T205339/Spotify Account Data/Inferences.json',\n",
       " 'spotify/account_data/20240904T205339/Spotify Account Data/Marquee.json',\n",
       " 'spotify/account_data/20240904T205339/Spotify Account Data/Payments.json',\n",
       " 'spotify/account_data/20240904T205339/Spotify Account Data/Playlist1.json',\n",
       " 'spotify/account_data/20240904T205339/Spotify Account Data/PlaylistInABottle.json',\n",
       " 'spotify/account_data/20240904T205339/Spotify Account Data/SearchQueries.json',\n",
       " 'spotify/account_data/20240904T205339/Spotify Account Data/StreamingHistory_music_0.json',\n",
       " 'spotify/account_data/20240904T205339/Spotify Account Data/StreamingHistory_music_1.json',\n",
       " 'spotify/account_data/20240904T205339/Spotify Account Data/StreamingHistory_podcast_0.json',\n",
       " 'spotify/account_data/20240904T205339/Spotify Account Data/Userdata.json',\n",
       " 'spotify/account_data/20240904T205339/Spotify Account Data/Wrapped2023.json',\n",
       " 'spotify/account_data/20240904T205339/Spotify Account Data/YourLibrary.json']"
      ]
     },
     "execution_count": 10,
     "metadata": {},
     "output_type": "execute_result"
    }
   ],
   "source": [
    "json_blobs"
   ]
  },
  {
   "cell_type": "code",
   "execution_count": 79,
   "metadata": {},
   "outputs": [
    {
     "data": {
      "text/plain": [
       "['spotify/account_data/20240904T205339.zip']"
      ]
     },
     "execution_count": 79,
     "metadata": {},
     "output_type": "execute_result"
    }
   ],
   "source": [
    "list_blobs_with_prefix('compendium-test')"
   ]
  },
  {
   "cell_type": "code",
   "execution_count": 80,
   "metadata": {},
   "outputs": [
    {
     "data": {
      "text/plain": [
       "['spotify/account_data/20240904T205339/Spotify Account Data/',\n",
       " 'spotify/account_data/20240904T205339/Spotify Account Data/FamilyPlan.json',\n",
       " 'spotify/account_data/20240904T205339/Spotify Account Data/Follow.json',\n",
       " 'spotify/account_data/20240904T205339/Spotify Account Data/Identifiers.json',\n",
       " 'spotify/account_data/20240904T205339/Spotify Account Data/Identity.json',\n",
       " 'spotify/account_data/20240904T205339/Spotify Account Data/Inferences.json',\n",
       " 'spotify/account_data/20240904T205339/Spotify Account Data/Marquee.json',\n",
       " 'spotify/account_data/20240904T205339/Spotify Account Data/Payments.json',\n",
       " 'spotify/account_data/20240904T205339/Spotify Account Data/Playlist1.json',\n",
       " 'spotify/account_data/20240904T205339/Spotify Account Data/PlaylistInABottle.json',\n",
       " 'spotify/account_data/20240904T205339/Spotify Account Data/Read_Me_First.pdf',\n",
       " 'spotify/account_data/20240904T205339/Spotify Account Data/SearchQueries.json',\n",
       " 'spotify/account_data/20240904T205339/Spotify Account Data/StreamingHistory_music_0.json',\n",
       " 'spotify/account_data/20240904T205339/Spotify Account Data/StreamingHistory_music_1.json',\n",
       " 'spotify/account_data/20240904T205339/Spotify Account Data/StreamingHistory_podcast_0.json',\n",
       " 'spotify/account_data/20240904T205339/Spotify Account Data/Userdata.json',\n",
       " 'spotify/account_data/20240904T205339/Spotify Account Data/Wrapped2023.json',\n",
       " 'spotify/account_data/20240904T205339/Spotify Account Data/YourLibrary.json']"
      ]
     },
     "execution_count": 80,
     "metadata": {},
     "output_type": "execute_result"
    }
   ],
   "source": [
    "list_blobs_with_prefix(landing_bucket_name, blob_paths[0].removesuffix('.zip'))"
   ]
  },
  {
   "cell_type": "code",
   "execution_count": 19,
   "metadata": {},
   "outputs": [
    {
     "name": "stdout",
     "output_type": "stream",
     "text": [
      "Pipeline spotify_account_data_pipeline load step completed in 28.76 seconds\n",
      "1 load package(s) were loaded to destination bigquery and into dataset spotify_account_data\n",
      "The bigquery destination used compendium-sa@cellular-virtue-434518-i4.iam.gserviceaccount.com@cellular-virtue-434518-i4 location to store data\n",
      "Load package 1726995831.98243 is LOADED and contains no failed jobs\n"
     ]
    }
   ],
   "source": [
    "# parse the json and upload it to the DB with dlt\n",
    "\n",
    "import dlt\n",
    "from dlt.sources.filesystem import filesystem, read_jsonl\n",
    "\n",
    "files = filesystem(bucket_url=f\"gs://{landing_bucket_name}/{blob_paths[0].removesuffix('.zip')}/Spotify Account Data/\", file_glob=\"*.jsonl\")\n",
    "# filtered_files = [f for f in files if f['file_name'] in ['Marquee.jsonl', \"Playlist1.jsonl\", \"SearchQueries.jsonl\", \"Userdata.jsonl\", \"YourLibrary.jsonl\"]]\n",
    "reader = (files | read_jsonl()).with_name(\"spotify_account_data\")\n",
    "pipeline = dlt.pipeline(pipeline_name=\"spotify_account_data_pipeline\", dataset_name=\"spotify_account_data\", destination=\"bigquery\")\n",
    "\n",
    "info = pipeline.run(reader)\n",
    "print(info)\n"
   ]
  },
  {
   "cell_type": "code",
   "execution_count": 16,
   "metadata": {},
   "outputs": [
    {
     "name": "stdout",
     "output_type": "stream",
     "text": [
      "{'file_name': 'FamilyPlan.jsonl', 'relative_path': 'FamilyPlan.jsonl', 'file_url': 'gs://compendium-test/spotify/account_data/20240904T205339/Spotify Account Data/FamilyPlan.jsonl', 'mime_type': 'application/jsonl', 'encoding': None, 'modification_date': DateTime(2024, 9, 22, 8, 55, 55, 357000, tzinfo=Timezone('UTC')), 'size_in_bytes': 92}\n",
      "{'file_name': 'Follow.jsonl', 'relative_path': 'Follow.jsonl', 'file_url': 'gs://compendium-test/spotify/account_data/20240904T205339/Spotify Account Data/Follow.jsonl', 'mime_type': 'application/jsonl', 'encoding': None, 'modification_date': DateTime(2024, 9, 22, 8, 55, 55, 580000, tzinfo=Timezone('UTC')), 'size_in_bytes': 75}\n",
      "{'file_name': 'Identifiers.jsonl', 'relative_path': 'Identifiers.jsonl', 'file_url': 'gs://compendium-test/spotify/account_data/20240904T205339/Spotify Account Data/Identifiers.jsonl', 'mime_type': 'application/jsonl', 'encoding': None, 'modification_date': DateTime(2024, 9, 22, 8, 55, 55, 810000, tzinfo=Timezone('UTC')), 'size_in_bytes': 69}\n",
      "{'file_name': 'Identity.jsonl', 'relative_path': 'Identity.jsonl', 'file_url': 'gs://compendium-test/spotify/account_data/20240904T205339/Spotify Account Data/Identity.jsonl', 'mime_type': 'application/jsonl', 'encoding': None, 'modification_date': DateTime(2024, 9, 22, 8, 55, 56, 37000, tzinfo=Timezone('UTC')), 'size_in_bytes': 257}\n",
      "{'file_name': 'Inferences.jsonl', 'relative_path': 'Inferences.jsonl', 'file_url': 'gs://compendium-test/spotify/account_data/20240904T205339/Spotify Account Data/Inferences.jsonl', 'mime_type': 'application/jsonl', 'encoding': None, 'modification_date': DateTime(2024, 9, 22, 8, 55, 56, 264000, tzinfo=Timezone('UTC')), 'size_in_bytes': 70}\n",
      "{'file_name': 'Marquee.jsonl', 'relative_path': 'Marquee.jsonl', 'file_url': 'gs://compendium-test/spotify/account_data/20240904T205339/Spotify Account Data/Marquee.jsonl', 'mime_type': 'application/jsonl', 'encoding': None, 'modification_date': DateTime(2024, 9, 22, 8, 55, 56, 571000, tzinfo=Timezone('UTC')), 'size_in_bytes': 65178}\n",
      "{'file_name': 'Payments.jsonl', 'relative_path': 'Payments.jsonl', 'file_url': 'gs://compendium-test/spotify/account_data/20240904T205339/Spotify Account Data/Payments.jsonl', 'mime_type': 'application/jsonl', 'encoding': None, 'modification_date': DateTime(2024, 9, 22, 8, 55, 56, 786000, tzinfo=Timezone('UTC')), 'size_in_bytes': 37}\n",
      "{'file_name': 'Playlist1.jsonl', 'relative_path': 'Playlist1.jsonl', 'file_url': 'gs://compendium-test/spotify/account_data/20240904T205339/Spotify Account Data/Playlist1.jsonl', 'mime_type': 'application/jsonl', 'encoding': None, 'modification_date': DateTime(2024, 9, 22, 8, 55, 57, 324000, tzinfo=Timezone('UTC')), 'size_in_bytes': 446358}\n",
      "{'file_name': 'PlaylistInABottle.jsonl', 'relative_path': 'PlaylistInABottle.jsonl', 'file_url': 'gs://compendium-test/spotify/account_data/20240904T205339/Spotify Account Data/PlaylistInABottle.jsonl', 'mime_type': 'application/jsonl', 'encoding': None, 'modification_date': DateTime(2024, 9, 22, 8, 55, 57, 640000, tzinfo=Timezone('UTC')), 'size_in_bytes': 813}\n",
      "{'file_name': 'SearchQueries.jsonl', 'relative_path': 'SearchQueries.jsonl', 'file_url': 'gs://compendium-test/spotify/account_data/20240904T205339/Spotify Account Data/SearchQueries.jsonl', 'mime_type': 'application/jsonl', 'encoding': None, 'modification_date': DateTime(2024, 9, 22, 8, 55, 57, 918000, tzinfo=Timezone('UTC')), 'size_in_bytes': 18602}\n",
      "{'file_name': 'StreamingHistory_music_0.jsonl', 'relative_path': 'StreamingHistory_music_0.jsonl', 'file_url': 'gs://compendium-test/spotify/account_data/20240904T205339/Spotify Account Data/StreamingHistory_music_0.jsonl', 'mime_type': 'application/jsonl', 'encoding': None, 'modification_date': DateTime(2024, 9, 22, 8, 55, 58, 826000, tzinfo=Timezone('UTC')), 'size_in_bytes': 1129567}\n",
      "{'file_name': 'StreamingHistory_music_1.jsonl', 'relative_path': 'StreamingHistory_music_1.jsonl', 'file_url': 'gs://compendium-test/spotify/account_data/20240904T205339/Spotify Account Data/StreamingHistory_music_1.jsonl', 'mime_type': 'application/jsonl', 'encoding': None, 'modification_date': DateTime(2024, 9, 22, 8, 55, 59, 277000, tzinfo=Timezone('UTC')), 'size_in_bytes': 204872}\n",
      "{'file_name': 'StreamingHistory_podcast_0.jsonl', 'relative_path': 'StreamingHistory_podcast_0.jsonl', 'file_url': 'gs://compendium-test/spotify/account_data/20240904T205339/Spotify Account Data/StreamingHistory_podcast_0.jsonl', 'mime_type': 'application/jsonl', 'encoding': None, 'modification_date': DateTime(2024, 9, 22, 8, 55, 59, 463000, tzinfo=Timezone('UTC')), 'size_in_bytes': 285}\n",
      "{'file_name': 'Userdata.jsonl', 'relative_path': 'Userdata.jsonl', 'file_url': 'gs://compendium-test/spotify/account_data/20240904T205339/Spotify Account Data/Userdata.jsonl', 'mime_type': 'application/jsonl', 'encoding': None, 'modification_date': DateTime(2024, 9, 22, 8, 55, 59, 682000, tzinfo=Timezone('UTC')), 'size_in_bytes': 287}\n",
      "{'file_name': 'Wrapped2023.jsonl', 'relative_path': 'Wrapped2023.jsonl', 'file_url': 'gs://compendium-test/spotify/account_data/20240904T205339/Spotify Account Data/Wrapped2023.jsonl', 'mime_type': 'application/jsonl', 'encoding': None, 'modification_date': DateTime(2024, 9, 22, 8, 55, 59, 868000, tzinfo=Timezone('UTC')), 'size_in_bytes': 4868}\n",
      "{'file_name': 'YourLibrary.jsonl', 'relative_path': 'YourLibrary.jsonl', 'file_url': 'gs://compendium-test/spotify/account_data/20240904T205339/Spotify Account Data/YourLibrary.jsonl', 'mime_type': 'application/jsonl', 'encoding': None, 'modification_date': DateTime(2024, 9, 22, 8, 56, 0, 341000, tzinfo=Timezone('UTC')), 'size_in_bytes': 193900}\n"
     ]
    }
   ],
   "source": [
    "for f in files:\n",
    "    print(f)"
   ]
  },
  {
   "cell_type": "code",
   "execution_count": 14,
   "metadata": {},
   "outputs": [
    {
     "data": {
      "text/plain": [
       "'gs://compendium-test/spotify/account_data/20240904T205339/Spotify Account Data/'"
      ]
     },
     "execution_count": 14,
     "metadata": {},
     "output_type": "execute_result"
    }
   ],
   "source": [
    "f\"gs://{landing_bucket_name}/{blob_paths[0].removesuffix('.zip')}/Spotify Account Data/\""
   ]
  },
  {
   "cell_type": "code",
   "execution_count": 16,
   "metadata": {},
   "outputs": [
    {
     "data": {
      "text/plain": [
       "'compendium-test/spotify/account_data/20240904T205339'"
      ]
     },
     "execution_count": 16,
     "metadata": {},
     "output_type": "execute_result"
    }
   ],
   "source": [
    "f\"{landing_bucket_name}/{blob_paths[0].removesuffix('.zip')}\""
   ]
  },
  {
   "cell_type": "code",
   "execution_count": 23,
   "metadata": {},
   "outputs": [
    {
     "data": {
      "text/plain": [
       "[{'file_name': 'Marquee.json',\n",
       "  'relative_path': 'Marquee.json',\n",
       "  'file_url': 'gs://compendium-test/spotify/account_data/20240904T205339/Spotify Account Data/Marquee.json',\n",
       "  'mime_type': 'application/json',\n",
       "  'encoding': None,\n",
       "  'modification_date': DateTime(2024, 9, 22, 7, 15, 27, 574000, tzinfo=Timezone('UTC')),\n",
       "  'size_in_bytes': 78899},\n",
       " {'file_name': 'Playlist1.json',\n",
       "  'relative_path': 'Playlist1.json',\n",
       "  'file_url': 'gs://compendium-test/spotify/account_data/20240904T205339/Spotify Account Data/Playlist1.json',\n",
       "  'mime_type': 'application/json',\n",
       "  'encoding': None,\n",
       "  'modification_date': DateTime(2024, 9, 22, 7, 15, 28, 454000, tzinfo=Timezone('UTC')),\n",
       "  'size_in_bytes': 677743},\n",
       " {'file_name': 'SearchQueries.json',\n",
       "  'relative_path': 'SearchQueries.json',\n",
       "  'file_url': 'gs://compendium-test/spotify/account_data/20240904T205339/Spotify Account Data/SearchQueries.json',\n",
       "  'mime_type': 'application/json',\n",
       "  'encoding': None,\n",
       "  'modification_date': DateTime(2024, 9, 22, 7, 15, 28, 982000, tzinfo=Timezone('UTC')),\n",
       "  'size_in_bytes': 23157},\n",
       " {'file_name': 'Userdata.json',\n",
       "  'relative_path': 'Userdata.json',\n",
       "  'file_url': 'gs://compendium-test/spotify/account_data/20240904T205339/Spotify Account Data/Userdata.json',\n",
       "  'mime_type': 'application/json',\n",
       "  'encoding': None,\n",
       "  'modification_date': DateTime(2024, 9, 22, 7, 15, 30, 537000, tzinfo=Timezone('UTC')),\n",
       "  'size_in_bytes': 313},\n",
       " {'file_name': 'YourLibrary.json',\n",
       "  'relative_path': 'YourLibrary.json',\n",
       "  'file_url': 'gs://compendium-test/spotify/account_data/20240904T205339/Spotify Account Data/YourLibrary.json',\n",
       "  'mime_type': 'application/json',\n",
       "  'encoding': None,\n",
       "  'modification_date': DateTime(2024, 9, 22, 7, 15, 31, 139000, tzinfo=Timezone('UTC')),\n",
       "  'size_in_bytes': 243269}]"
      ]
     },
     "execution_count": 23,
     "metadata": {},
     "output_type": "execute_result"
    }
   ],
   "source": [
    "[f for f in files if f['file_name'] in ['Marquee.json', \"Playlist1.json\", \"SearchQueries.json\", \"Userdata.json\", \"YourLibrary.json\"]]"
   ]
  },
  {
   "cell_type": "code",
   "execution_count": null,
   "metadata": {},
   "outputs": [],
   "source": []
  }
 ],
 "metadata": {
  "kernelspec": {
   "display_name": "venv",
   "language": "python",
   "name": "python3"
  },
  "language_info": {
   "codemirror_mode": {
    "name": "ipython",
    "version": 3
   },
   "file_extension": ".py",
   "mimetype": "text/x-python",
   "name": "python",
   "nbconvert_exporter": "python",
   "pygments_lexer": "ipython3",
   "version": "3.12.5"
  }
 },
 "nbformat": 4,
 "nbformat_minor": 2
}
